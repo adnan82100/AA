{
 "cells": [
  {
   "cell_type": "markdown",
   "id": "4c717dbb",
   "metadata": {},
   "source": [
    "### Python2 Exercises"
   ]
  },
  {
   "cell_type": "markdown",
   "id": "c68ca03a",
   "metadata": {},
   "source": [
    "In this exercise, we're going to write out some really fundamental algorithms in Python.\n",
    "\n",
    "Look at the videos: \n",
    "\n",
    "https://www.youtube.com/playlist?list=PL9xmBV_5YoZOZSbGAXAPIq1BeUf4j20pl\n",
    "\n",
    "For each algorithm: \n",
    "\n",
    "* Explain how the algorithm works in general to each other\n",
    "* Try and write out the algorithm in English thinking about the technical steps you need to take to implement the code\n",
    "* Write out some test cases first to test your code\n",
    "* Write out the algorithm in Python \n",
    "* Ensure your code passes all tests"
   ]
  },
  {
   "cell_type": "markdown",
   "id": "7f8712fd",
   "metadata": {},
   "source": [
    "#### Insertion Sort"
   ]
  },
  {
   "cell_type": "code",
   "execution_count": null,
   "id": "29b18678",
   "metadata": {},
   "outputs": [],
   "source": []
  },
  {
   "cell_type": "markdown",
   "id": "4ae95bf3",
   "metadata": {},
   "source": [
    "#### Bubble Sort"
   ]
  },
  {
   "cell_type": "code",
   "execution_count": null,
   "id": "1eb13d9a",
   "metadata": {},
   "outputs": [],
   "source": []
  },
  {
   "cell_type": "markdown",
   "id": "5a9fc4d7",
   "metadata": {},
   "source": [
    "#### Selection Sort"
   ]
  },
  {
   "cell_type": "code",
   "execution_count": null,
   "id": "6cd3831e",
   "metadata": {},
   "outputs": [],
   "source": []
  }
 ],
 "metadata": {
  "kernelspec": {
   "display_name": "Python 3 (ipykernel)",
   "language": "python",
   "name": "python3"
  },
  "language_info": {
   "codemirror_mode": {
    "name": "ipython",
    "version": 3
   },
   "file_extension": ".py",
   "mimetype": "text/x-python",
   "name": "python",
   "nbconvert_exporter": "python",
   "pygments_lexer": "ipython3",
   "version": "3.7.12"
  }
 },
 "nbformat": 4,
 "nbformat_minor": 5
}
