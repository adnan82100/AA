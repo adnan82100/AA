{
 "cells": [
  {
   "cell_type": "markdown",
   "id": "c150f1ed",
   "metadata": {},
   "source": [
    "### Python2 Exercises - Lists + Dictionaries"
   ]
  },
  {
   "cell_type": "markdown",
   "id": "bfa7ccc7",
   "metadata": {},
   "source": [
    "Look at the links:\n",
    "\n",
    "Lists: https://www.w3resource.com/python-exercises/list/\n",
    "\n",
    "Dicts:https://www.w3resource.com/python-exercises/dictionary/"
   ]
  },
  {
   "cell_type": "markdown",
   "id": "2672cb8b",
   "metadata": {},
   "source": [
    "### Solutions:"
   ]
  },
  {
   "cell_type": "code",
   "execution_count": null,
   "id": "fd156865",
   "metadata": {},
   "outputs": [],
   "source": []
  }
 ],
 "metadata": {
  "kernelspec": {
   "display_name": "Python 3 (ipykernel)",
   "language": "python",
   "name": "python3"
  },
  "language_info": {
   "codemirror_mode": {
    "name": "ipython",
    "version": 3
   },
   "file_extension": ".py",
   "mimetype": "text/x-python",
   "name": "python",
   "nbconvert_exporter": "python",
   "pygments_lexer": "ipython3",
   "version": "3.7.12"
  }
 },
 "nbformat": 4,
 "nbformat_minor": 5
}
