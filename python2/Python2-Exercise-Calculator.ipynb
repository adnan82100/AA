{
 "cells": [
  {
   "cell_type": "markdown",
   "id": "42c4e035",
   "metadata": {},
   "source": [
    "### Python2 Exercise - Calculator\n",
    "\n",
    "Write a command line calculator program. \n",
    "\n",
    "Your program should be able to support: addition, subtraction, multiplication and division.\n",
    "\n",
    "When you enter `quit` it should stop.\n",
    "\n",
    "Your program should look like the following:\n",
    "\n",
    "```\n",
    "$ python3 calculator.py\n",
    "\n",
    ">>> 1 + 2\n",
    ">>> 3\n",
    "\n",
    ">>> 22 * 2\n",
    ">>> 44\n",
    "\n",
    ">>> quit\n",
    "\n",
    "$ \n",
    "```"
   ]
  }
 ],
 "metadata": {
  "kernelspec": {
   "display_name": "Python 3 (ipykernel)",
   "language": "python",
   "name": "python3"
  },
  "language_info": {
   "codemirror_mode": {
    "name": "ipython",
    "version": 3
   },
   "file_extension": ".py",
   "mimetype": "text/x-python",
   "name": "python",
   "nbconvert_exporter": "python",
   "pygments_lexer": "ipython3",
   "version": "3.7.12"
  }
 },
 "nbformat": 4,
 "nbformat_minor": 5
}
