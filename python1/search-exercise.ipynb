{
 "cells": [
  {
   "cell_type": "markdown",
   "id": "e530cafa",
   "metadata": {},
   "source": [
    "**Sequential Search**: In this, the list or array is traversed **sequentially** and *every element* is checked. For example: **Linear Search**\n",
    "\n",
    "#### Write a program to search the list for an integer value"
   ]
  },
  {
   "cell_type": "code",
   "execution_count": null,
   "id": "c9e12efb",
   "metadata": {},
   "outputs": [],
   "source": [
    "a_list = [10, 9, 22, 1889, 2, 3, 55, 59, 36]"
   ]
  },
  {
   "cell_type": "markdown",
   "id": "62d0567f",
   "metadata": {},
   "source": [
    "**Interval Search**: These algorithms are specifically designed for searching in sorted data-structures. These type of searching algorithms are much more efficient than Linear Search as they repeatedly target the center of the search structure and divide the search space in half. For Example: Binary Search."
   ]
  },
  {
   "cell_type": "markdown",
   "id": "03e7348b",
   "metadata": {},
   "source": [
    "#### Write a program to search the list for an integer value using binary search\n",
    "\n",
    "Binary Search is a searching algorithm used in a **sorted array** by repeatedly dividing the search interval in half\n",
    "\n",
    "```\n",
    "    binarySearch(arr, x, low, high)\n",
    "        repeat till low = high\n",
    "               mid = (low + high)/2\n",
    "                   if (x == arr[mid])\n",
    "                   return mid\n",
    "   \n",
    "                   else if (x > arr[mid]) // x is on the right side\n",
    "                       low = mid + 1\n",
    "   \n",
    "                   else                  // x is on the left side\n",
    "                       high = mid - 1\n",
    "```\n",
    "\n",
    "* Read the above pseudocode and try and understand it individually \n",
    "* Explain the algorithm to your partner\n",
    "* Code it out!\n",
    "\n",
    "**EXTRA:**\n",
    "\n",
    "```\n",
    "    binarySearch(arr, x, low, high)\n",
    "           if low > high\n",
    "               return False \n",
    "   \n",
    "           else\n",
    "               mid = (low + high) / 2 \n",
    "                   if x == arr[mid]\n",
    "                   return mid\n",
    "       \n",
    "               else if x > arr[mid]        // x is on the right side\n",
    "                   return binarySearch(arr, x, mid + 1, high)\n",
    "               \n",
    "               else                        // x is on the left side\n",
    "                   return binarySearch(arr, x, low, mid - 1) \n",
    "```"
   ]
  },
  {
   "cell_type": "code",
   "execution_count": null,
   "id": "e5f671e6",
   "metadata": {},
   "outputs": [],
   "source": [
    "another_list = [10, 9, 22, 1889, 2, 3, 55, 59, 36, 9, 29, 22, 34, 4, 189]"
   ]
  }
 ],
 "metadata": {
  "kernelspec": {
   "display_name": "Python 3 (ipykernel)",
   "language": "python",
   "name": "python3"
  },
  "language_info": {
   "codemirror_mode": {
    "name": "ipython",
    "version": 3
   },
   "file_extension": ".py",
   "mimetype": "text/x-python",
   "name": "python",
   "nbconvert_exporter": "python",
   "pygments_lexer": "ipython3",
   "version": "3.7.12"
  }
 },
 "nbformat": 4,
 "nbformat_minor": 5
}
