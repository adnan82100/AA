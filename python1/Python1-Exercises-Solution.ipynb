{
 "cells": [
  {
   "cell_type": "markdown",
   "id": "fecf9cc6",
   "metadata": {},
   "source": [
    "#### Write a program that accepts user input\n",
    "\n",
    "* Accepting inputs into our programs\n",
    "* Using f-strings for string interpolation"
   ]
  },
  {
   "cell_type": "code",
   "execution_count": null,
   "id": "ec6aae08",
   "metadata": {},
   "outputs": [],
   "source": [
    "your_age = input(\"Please enter your year of birth: \")\n",
    "\n",
    "current_year = 2022\n",
    "\n",
    "print(f\"Given your birth year, you are { current_year - int(your_age) } years old\")"
   ]
  },
  {
   "cell_type": "code",
   "execution_count": null,
   "id": "039e9252",
   "metadata": {},
   "outputs": [],
   "source": [
    "your_age = int(input(\"Please enter your year of birth: \")) # your_age is expected to be a 'number' so it makes sense to convert it to an 'int' at the point of definition\n",
    "\n",
    "current_year = 2022\n",
    "\n",
    "print(f\"Given your birth year, you are { current_year - your_age } years old\")"
   ]
  },
  {
   "cell_type": "markdown",
   "id": "5ef08baf",
   "metadata": {},
   "source": [
    "Look at the code above, would you cast `your_age` to an `int` within the f-string or is there perhaps another place where this could be done?"
   ]
  },
  {
   "cell_type": "markdown",
   "id": "f4250cba",
   "metadata": {},
   "source": [
    "#### Write a program that adds all the elements of the list that are less than 5 into a new list\n",
    "\n",
    "* List comprehensions"
   ]
  },
  {
   "cell_type": "code",
   "execution_count": null,
   "id": "ffcdc43d",
   "metadata": {},
   "outputs": [],
   "source": [
    "number_list = [1, 1, 2, 3, 5, 8, 13, 21, 34, 55, 89]\n",
    "\n",
    "new_number_list = []\n",
    "\n",
    "for number in number_list:\n",
    "  if number < 5:\n",
    "    new_number_list.append(number)\n",
    "\n",
    "print(new_number_list)    "
   ]
  },
  {
   "cell_type": "markdown",
   "id": "c56d777d",
   "metadata": {},
   "source": [
    "Can you convert this into a list comprehension?"
   ]
  },
  {
   "cell_type": "code",
   "execution_count": null,
   "id": "88156b02",
   "metadata": {},
   "outputs": [],
   "source": [
    "new_number_list = [number for number in number_list if number < 5]\n",
    "\n",
    "print(new_number_list)"
   ]
  },
  {
   "cell_type": "markdown",
   "id": "dea4f32c",
   "metadata": {},
   "source": [
    "#### Write a program that adds all the elements of the list that are less than 10 and even into a new list"
   ]
  },
  {
   "cell_type": "code",
   "execution_count": null,
   "id": "68ff5357",
   "metadata": {},
   "outputs": [],
   "source": [
    "a = [1, 1, 2, 3, 5, 8, 13, 21, 34, 55, 89]\n",
    "\n",
    "new_a = [number for number in a if number < 10 and number % 2 == 0]\n",
    "\n",
    "print(new_a)"
   ]
  },
  {
   "cell_type": "markdown",
   "id": "a4e4d8c9",
   "metadata": {},
   "source": [
    "#### Write a program that returns a list that contains only the elements that are common between the lists without duplicates\n",
    "\n",
    "* Sets"
   ]
  },
  {
   "cell_type": "code",
   "execution_count": null,
   "id": "fd35735b",
   "metadata": {},
   "outputs": [],
   "source": [
    "a = [1, 1, 2, 3, 5, 8, 13, 21, 34, 55, 89]\n",
    "b = [1, 2, 3, 4, 5, 6, 7, 8, 9, 10, 11, 12, 13]\n",
    "\n",
    "c = [number for number in set(a) if number in b]\n",
    "\n",
    "print(c)"
   ]
  },
  {
   "cell_type": "code",
   "execution_count": null,
   "id": "9a18a670",
   "metadata": {},
   "outputs": [],
   "source": [
    "list(set(a).intersection(b))"
   ]
  },
  {
   "cell_type": "markdown",
   "id": "220b1ec4",
   "metadata": {},
   "source": [
    "#### Create an identical list from the first list using list comprehension"
   ]
  },
  {
   "cell_type": "code",
   "execution_count": null,
   "id": "325346d7",
   "metadata": {},
   "outputs": [],
   "source": [
    "lst1 = [1,2,3,4,5]\n",
    "\n",
    "lst2 = [num for num in range(1,6)]\n",
    "\n",
    "print(lst2)"
   ]
  },
  {
   "cell_type": "markdown",
   "id": "3ded1c02",
   "metadata": {},
   "source": [
    "#### Can you design and create a program to simulate a bank account?\n",
    "\n",
    "* Use user input\n",
    "* No classes"
   ]
  },
  {
   "cell_type": "code",
   "execution_count": 1,
   "id": "388615df",
   "metadata": {},
   "outputs": [
    {
     "name": "stdout",
     "output_type": "stream",
     "text": [
      "Account Created: patrick_current_account\n",
      "Account Balance: 0\n",
      "Account Balance: $1000\n",
      "Account Balance: $500\n",
      "Thanks for banking with The Bank of Patrick. Goodbye.\n"
     ]
    }
   ],
   "source": [
    "# Requirements:\n",
    "\n",
    "# An account is made up of a balance\n",
    "# You can make withdrawls from an account, which reduces your balance by the withdrawl amount\n",
    "# You can make a deposit into your account, which increases your balance by the deposit amount\n",
    "\n",
    "# CMDs:\n",
    "# To create an account => create [NAME]\n",
    "# To see balance => balance\n",
    "# To withdraw => withdraw [AMOUNT]\n",
    "# To deposit => deposit [AMOUNT]\n",
    "# To exit => exit\n",
    "\n",
    "cmd = input(\"Welcome to The Bank of Patrick. \" \\\n",
    "            \"What would you like to do? To exit, simply type: exit\").split(\" \")\n",
    "\n",
    "while cmd[0] != \"exit\":\n",
    "  \n",
    "  if cmd[0] == \"create\":\n",
    "    account = [cmd[1], 0]\n",
    "    print(f\"Account Created: {account[0]}\")\n",
    "    cmd = input(\"Is there anything else you need assistance with?\").split(\" \")\n",
    "  \n",
    "  elif cmd[0] == \"balance\":\n",
    "    print(f\"Account Balance: {account[1]}\")\n",
    "    cmd = input(\"Is there anything else you need assistance with?\").split(\" \")\n",
    "  \n",
    "  elif cmd[0] == \"withdraw\":\n",
    "    withdrawl_amount = int(cmd[1])\n",
    "    old_balance = account[1]\n",
    "    account[1] -= withdrawl_amount\n",
    "    print(f\"Account Balance: ${old_balance - withdrawl_amount}\")\n",
    "    cmd = input(\"Is there anything else you need assistance with?\").split(\" \")\n",
    "  \n",
    "  elif cmd[0] == \"deposit\":\n",
    "    deposit_amount = int(cmd[1])\n",
    "    old_balance = account[1]\n",
    "    account[1] += deposit_amount\n",
    "    print(f\"Account Balance: ${old_balance + deposit_amount}\")\n",
    "    cmd = input(\"Is there anything else you need assistance with?\").split(\" \")\n",
    "\n",
    "print(\"Thanks for banking with The Bank of Patrick. Goodbye.\")"
   ]
  }
 ],
 "metadata": {
  "kernelspec": {
   "display_name": "Python 3.10.7 64-bit",
   "language": "python",
   "name": "python3"
  },
  "language_info": {
   "codemirror_mode": {
    "name": "ipython",
    "version": 3
   },
   "file_extension": ".py",
   "mimetype": "text/x-python",
   "name": "python",
   "nbconvert_exporter": "python",
   "pygments_lexer": "ipython3",
   "version": "3.10.7"
  },
  "vscode": {
   "interpreter": {
    "hash": "b0fa6594d8f4cbf19f97940f81e996739fb7646882a419484c72d19e05852a7e"
   }
  }
 },
 "nbformat": 4,
 "nbformat_minor": 5
}
