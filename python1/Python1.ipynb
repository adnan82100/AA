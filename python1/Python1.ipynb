{
 "cells": [
  {
   "cell_type": "markdown",
   "id": "28a79c5b",
   "metadata": {},
   "source": [
    "# Problem 1\n",
    "\n",
    "In this problem, we will complete a function that can determine if a string is a palindrome\n",
    "\n",
    "1. Complete the function `is_palindrome`.\n",
    "1. The function `is_palindrome` should take one argument named `text`.\n",
    "1. The function `is_palindrome` should return true if the value of `text` is a palindrome, and should otherwise return false.\n",
    "\n",
    "Note:  A a **palindrome** is a word, number, phrase, or other sequence of characters which reads the same backward as forward."
   ]
  },
  {
   "cell_type": "code",
   "execution_count": 11,
   "id": "23d9fba8",
   "metadata": {},
   "outputs": [],
   "source": [
    "def is_palindrome(text):\n",
    "  reverse = text[::-1]\n",
    "  if ( text == reverse):\n",
    "    return True\n",
    "  else:\n",
    "    return False"
   ]
  },
  {
   "cell_type": "code",
   "execution_count": 10,
   "id": "cda2c2ad",
   "metadata": {},
   "outputs": [],
   "source": [
    "def is_palindrome(text):\n",
    "  return True if text[::-1] == text else False"
   ]
  },
  {
   "cell_type": "code",
   "execution_count": 9,
   "id": "ba1749b6",
   "metadata": {},
   "outputs": [],
   "source": [
    "def is_palindrome(text):\n",
    "  return text[::-1] is text"
   ]
  },
  {
   "cell_type": "code",
   "execution_count": 8,
   "id": "01f0413b",
   "metadata": {},
   "outputs": [],
   "source": [
    "def is_palindrome(text):\n",
    "  #some basic variables for the function\n",
    "  counter = 0\n",
    "  back_counter = -1\n",
    "  list = []\n",
    "\n",
    "  #putting all digits separately into a list\n",
    "  for digit in text:\n",
    "      list.append(digit)\n",
    "\n",
    "  #limit of the interation, half the length of the whole text\n",
    "  limit = len(list) / 2\n",
    "\n",
    "  #check if the front is identical with the end\n",
    "  for _ in range(int(limit)):\n",
    "      if list[counter] == list[back_counter]:\n",
    "          counter += 1\n",
    "          back_counter -= 1\n",
    "      else:\n",
    "          return False\n",
    "  return True"
   ]
  },
  {
   "cell_type": "code",
   "execution_count": 7,
   "id": "bacaabd3",
   "metadata": {},
   "outputs": [],
   "source": [
    "def is_palindrome(text):\n",
    "  pointer_1 = 0\n",
    "  pointer_2 = len(text) - 1\n",
    "  while pointer_1 <= pointer_2:\n",
    "    if text[pointer_1] != text[pointer_2]:\n",
    "      return False\n",
    "    pointer_1 += 1\n",
    "    pointer_2 -= 1\n",
    "  return True"
   ]
  },
  {
   "cell_type": "code",
   "execution_count": 6,
   "id": "8c4b4268",
   "metadata": {},
   "outputs": [],
   "source": [
    "def is_palindrome(text):\n",
    "  # converting the argument text into a string\n",
    "  text = str(text)\n",
    "  # removing all whitespaces incase text is a phrase - as per definition of palindrome above\n",
    "  text.replace(\" \", \"\")\n",
    "  # reversing the order of the characters in text\n",
    "  text_reversed = text[::-1]\n",
    "  # return True if all characters are same or False otherwise\n",
    "  if text == text_reversed:\n",
    "    return True\n",
    "  else:\n",
    "    return False"
   ]
  },
  {
   "cell_type": "code",
   "execution_count": 5,
   "id": "100307ad",
   "metadata": {},
   "outputs": [],
   "source": [
    "def is_palindrome(palindrome):\n",
    "  if isinstance(palindrome, int):\n",
    "    palindrome = str(palindrome)\n",
    "  palindrome = palindrome.lower().replace(\" \", \"\")\n",
    "  return palindrome[::-1] == palindrome"
   ]
  },
  {
   "cell_type": "code",
   "execution_count": 19,
   "id": "ebc5f9d4",
   "metadata": {},
   "outputs": [],
   "source": [
    "def is_palindrome(text):\n",
    "    if(len(text)==1):\n",
    "        return True\n",
    "    elif(len(text)==2):\n",
    "        if(text[0]==text[1]):\n",
    "            return True\n",
    "        else:\n",
    "            return False\n",
    "    elif(len(text)>2 and text[0]==text[-1]):\n",
    "        text=text[1:-1]\n",
    "        result=is_palindrome(text)\n",
    "        if(result):\n",
    "            return True\n",
    "        else:\n",
    "            return False\n",
    "    else:\n",
    "        return False"
   ]
  },
  {
   "cell_type": "code",
   "execution_count": 3,
   "id": "83a9be8e",
   "metadata": {},
   "outputs": [
    {
     "ename": "NameError",
     "evalue": "name 'is_palindrome' is not defined",
     "output_type": "error",
     "traceback": [
      "\u001b[0;31m---------------------------------------------------------------------------\u001b[0m",
      "\u001b[0;31mNameError\u001b[0m                                 Traceback (most recent call last)",
      "\u001b[0;32m/tmp/ipykernel_97/3163742045.py\u001b[0m in \u001b[0;36m<module>\u001b[0;34m\u001b[0m\n\u001b[0;32m----> 1\u001b[0;31m \u001b[0;32massert\u001b[0m \u001b[0mis_palindrome\u001b[0m\u001b[0;34m(\u001b[0m\u001b[0;34m\"redivider\"\u001b[0m\u001b[0;34m)\u001b[0m \u001b[0;34m==\u001b[0m \u001b[0;32mTrue\u001b[0m\u001b[0;34m\u001b[0m\u001b[0;34m\u001b[0m\u001b[0m\n\u001b[0m\u001b[1;32m      2\u001b[0m \u001b[0;32massert\u001b[0m \u001b[0mis_palindrome\u001b[0m\u001b[0;34m(\u001b[0m\u001b[0;34m\"drive\"\u001b[0m\u001b[0;34m)\u001b[0m \u001b[0;34m==\u001b[0m \u001b[0;32mFalse\u001b[0m\u001b[0;34m\u001b[0m\u001b[0;34m\u001b[0m\u001b[0m\n\u001b[1;32m      3\u001b[0m \u001b[0;32massert\u001b[0m \u001b[0mis_palindrome\u001b[0m\u001b[0;34m(\u001b[0m\u001b[0;34m\"kayak\"\u001b[0m\u001b[0;34m)\u001b[0m \u001b[0;34m==\u001b[0m \u001b[0;32mTrue\u001b[0m\u001b[0;34m\u001b[0m\u001b[0;34m\u001b[0m\u001b[0m\n\u001b[1;32m      4\u001b[0m \u001b[0;32massert\u001b[0m \u001b[0mis_palindrome\u001b[0m\u001b[0;34m(\u001b[0m\u001b[0;34m\"11211\"\u001b[0m\u001b[0;34m)\u001b[0m \u001b[0;34m==\u001b[0m \u001b[0;32mTrue\u001b[0m\u001b[0;34m\u001b[0m\u001b[0;34m\u001b[0m\u001b[0m\n\u001b[1;32m      5\u001b[0m \u001b[0;32massert\u001b[0m \u001b[0mis_palindrome\u001b[0m\u001b[0;34m(\u001b[0m\u001b[0;34m\"1115544\"\u001b[0m\u001b[0;34m)\u001b[0m \u001b[0;34m==\u001b[0m \u001b[0;32mFalse\u001b[0m\u001b[0;34m\u001b[0m\u001b[0;34m\u001b[0m\u001b[0m\n",
      "\u001b[0;31mNameError\u001b[0m: name 'is_palindrome' is not defined"
     ]
    }
   ],
   "source": [
    "assert is_palindrome(\"redivider\") == True\n",
    "assert is_palindrome(\"drive\") == False\n",
    "assert is_palindrome(\"kayak\") == True\n",
    "assert is_palindrome(\"11211\") == True\n",
    "assert is_palindrome(\"1115544\") == False"
   ]
  },
  {
   "cell_type": "code",
   "execution_count": 20,
   "id": "5f43f9dc",
   "metadata": {},
   "outputs": [
    {
     "name": "stderr",
     "output_type": "stream",
     "text": [
      "test_palindrome_happy_path (__main__.TestPalindrome) ... ok\n",
      "test_palindrome_unhappy_path (__main__.TestPalindrome) ... ok\n",
      "\n",
      "----------------------------------------------------------------------\n",
      "Ran 2 tests in 0.001s\n",
      "\n",
      "OK\n"
     ]
    }
   ],
   "source": [
    "import unittest\n",
    "\n",
    "class TestPalindrome(unittest.TestCase):\n",
    "  \n",
    "  def test_palindrome_happy_path(self):\n",
    "    self.assertEqual(is_palindrome(\"redivider\"), True)\n",
    "  \n",
    "  def test_palindrome_unhappy_path(self):\n",
    "    self.assertEqual(is_palindrome(\"drive\"), False)\n",
    "\n",
    "res = unittest.main(argv=[''], verbosity=3, exit=False)\n",
    "\n",
    "assert len(res.result.failures) == 0"
   ]
  },
  {
   "cell_type": "markdown",
   "id": "2e7303fd",
   "metadata": {},
   "source": [
    "# Problem 2\n",
    "\n",
    "In this problem, we will try to complete a function that will be able to tell us how many times a word is found in a collection of sentences.\n",
    "\n",
    "1. Complete the function `find_occurrences`.\n",
    "1. The function should take two arguments `sentence_list` and `search_term`.\n",
    "1. `sentence_list` should be an array of strings\n",
    "1. `search_term` should be a string.\n",
    "1. The function should return an integer greater than or equal to zero.\n",
    "1. The number returned should be the number of occurrences of the `search_term` found within `sentence_list`"
   ]
  },
  {
   "cell_type": "code",
   "execution_count": 17,
   "id": "a7f0844f",
   "metadata": {},
   "outputs": [],
   "source": [
    "def find_occurrences(sentence_list, search_term):\n",
    "  sentence_breakdown = (' '.join(sentence_list))\n",
    "  count = sentence_breakdown.count(search_term)\n",
    "  return count"
   ]
  },
  {
   "cell_type": "code",
   "execution_count": null,
   "id": "f3220fa0",
   "metadata": {},
   "outputs": [],
   "source": [
    "def find_occurrences(sentence_list, search_term):\n",
    "  noc = 0\n",
    "  \n",
    "  for s in sentence_list:\n",
    "    for w in s.split(\" \"):\n",
    "      if search_term in w: noc += 1\n",
    "  \n",
    "  return noc"
   ]
  },
  {
   "cell_type": "code",
   "execution_count": 23,
   "id": "94f1a96c",
   "metadata": {},
   "outputs": [],
   "source": [
    "def find_occurrences(sentence_list, search_term):\n",
    "  i=0\n",
    "  for x in sentence_list:\n",
    "    i+=x.count(search_term)\n",
    "  return i"
   ]
  },
  {
   "cell_type": "code",
   "execution_count": null,
   "id": "8459f98a",
   "metadata": {},
   "outputs": [],
   "source": [
    "def find_occurrences(sentence_list, search_term):\n",
    "  number_of_occurrences = 0\n",
    "  \n",
    "  for words in [sentence.split(\" \") for sentence in sentence_list]:\n",
    "    number_of_occurrences += sum([search_term in term for term in words])\n",
    "  \n",
    "  return number_of_occurrences"
   ]
  },
  {
   "cell_type": "code",
   "execution_count": null,
   "id": "e388c7cd",
   "metadata": {},
   "outputs": [],
   "source": [
    "def find_occurrences(sentence_list, search_term):\n",
    "  return sum([sum([search_term in term for term in words]) for words in [sentence.split(\" \") for sentence in sentence_list]])"
   ]
  },
  {
   "cell_type": "code",
   "execution_count": 21,
   "id": "4ace3061",
   "metadata": {},
   "outputs": [],
   "source": [
    "def find_occurrences(sentence_list, search_term):\n",
    "  number_of_occurrences = 0\n",
    "  for sentence in sentence_list:\n",
    "    for word in sentence.split(\" \"):\n",
    "      for position in range(len(search_term)):\n",
    "        if word[position] == search_term[position]:\n",
    "          if position == (len(search_term) - 1):\n",
    "            number_of_occurrences += 1\n",
    "        else:\n",
    "          break\n",
    "  \n",
    "  return number_of_occurrences"
   ]
  },
  {
   "cell_type": "code",
   "execution_count": 22,
   "id": "5dd3ddcb",
   "metadata": {},
   "outputs": [],
   "source": [
    "assert find_occurrences([\"welcome to our Python program\", \"Python is my favorite language!\", \"I am afraid of Pythons\", \"I love Python\"], \"Python\") == 4\n",
    "assert find_occurrences([\"this is the best day\", \"Python is the best language for learning programming\", \"I am learning\", \"I love learning\"], \"learning\") == 3\n",
    "assert find_occurrences([\"welcome\", \"language\", \"I am\", \"I love\"], \"Python\") == 0\n",
    "assert find_occurrences([\"What are you doing?\", \"you like programming?\", \"We are students\", \"We are learners\"], \"are\") == 3\n",
    "assert find_occurrences([\"welcome welcome\", \"wikipedia\", \"wonderland\", \"we\"], \"w\") == 5"
   ]
  },
  {
   "cell_type": "markdown",
   "id": "8789ccb0",
   "metadata": {},
   "source": [
    "# Problem 4\n",
    "\n",
    "In this problem identify the error in the following code and fix it.\n",
    "\n",
    "1. There should be a function called `increase_task_count()`"
   ]
  },
  {
   "cell_type": "code",
   "execution_count": 25,
   "id": "1b4c77b0",
   "metadata": {},
   "outputs": [],
   "source": [
    "task_count = 5\n",
    "\n",
    "def increase_task_count():\n",
    "    global task_count\n",
    "    task_count += 1\n",
    "\n",
    "increase_task_count()"
   ]
  },
  {
   "cell_type": "code",
   "execution_count": null,
   "id": "245fda58",
   "metadata": {},
   "outputs": [],
   "source": [
    "task_count = 5\n",
    "\n",
    "def increase_task_count(task_count):\n",
    "    task_count += 1\n",
    "    return task_count\n",
    "\n",
    "task_count = increase_task_count(task_count)"
   ]
  },
  {
   "cell_type": "markdown",
   "id": "fd120342",
   "metadata": {},
   "source": [
    "# Problem 5\n",
    "\n",
    "In this problem, we have a function that performs a division operation, but it crashes when dividing by zero.\n",
    "\n",
    "1. Modify the following function to catch and handle the ZeroDivisionError"
   ]
  },
  {
   "cell_type": "code",
   "execution_count": null,
   "id": "f15ba7f6",
   "metadata": {},
   "outputs": [],
   "source": [
    "def divide(divisor, dividend):\n",
    "  i=\"\"\n",
    "  if divisor==0:\n",
    "    i=\"Division by zero not allowed\"\n",
    "  else:\n",
    "    i=dividend/divisor\n",
    "  return i"
   ]
  },
  {
   "cell_type": "code",
   "execution_count": null,
   "id": "a5995c47",
   "metadata": {},
   "outputs": [],
   "source": [
    "def divide(divisor, dividend):\n",
    "  try:\n",
    "    return dividend / divisor\n",
    "  except:\n",
    "    return \"Division by zero not allowed\""
   ]
  },
  {
   "cell_type": "code",
   "execution_count": null,
   "id": "e0b54fea",
   "metadata": {},
   "outputs": [],
   "source": [
    "def divide(divisor, dividend):\n",
    "  try:\n",
    "    return dividend / divisor\n",
    "  except ZeroDivisionError:\n",
    "    return (\"Division by zero not allowed\")"
   ]
  },
  {
   "cell_type": "code",
   "execution_count": null,
   "id": "3269e0da",
   "metadata": {},
   "outputs": [],
   "source": [
    "assert divide(0, 10) == \"Division by zero not allowed\""
   ]
  }
 ],
 "metadata": {
  "kernelspec": {
   "display_name": "Python 3 (ipykernel)",
   "language": "python",
   "name": "python3"
  },
  "language_info": {
   "codemirror_mode": {
    "name": "ipython",
    "version": 3
   },
   "file_extension": ".py",
   "mimetype": "text/x-python",
   "name": "python",
   "nbconvert_exporter": "python",
   "pygments_lexer": "ipython3",
   "version": "3.7.12"
  }
 },
 "nbformat": 4,
 "nbformat_minor": 5
}
