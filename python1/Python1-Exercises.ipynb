{
 "cells": [
  {
   "cell_type": "markdown",
   "id": "291db2bc",
   "metadata": {},
   "source": [
    "#### Write a program that accepts user input\n",
    "\n",
    "* Accepting inputs into our programs\n",
    "* Using f-strings for string interpolation"
   ]
  },
  {
   "cell_type": "code",
   "execution_count": null,
   "id": "9cf9a78e",
   "metadata": {},
   "outputs": [],
   "source": [
    "your_age = input(\"Please enter your year of birth: \")\n",
    "\n",
    "current_year = 2022\n",
    "\n",
    "print(f\"Given your birth year, you are { current_year - int(your_age) } years old\")"
   ]
  },
  {
   "cell_type": "markdown",
   "id": "f81641d7",
   "metadata": {},
   "source": [
    "Look at the code above, would you cast `your_age` to an `int` within the f-string or is there perhaps another place where this could be done?"
   ]
  },
  {
   "cell_type": "markdown",
   "id": "e34c2351",
   "metadata": {},
   "source": [
    "#### Write a program that adds all the elements of the list that are less than 5 into a new list\n",
    "\n",
    "* List comprehensions"
   ]
  },
  {
   "cell_type": "code",
   "execution_count": null,
   "id": "7658ea41",
   "metadata": {},
   "outputs": [],
   "source": [
    "number_list = [1, 1, 2, 3, 5, 8, 13, 21, 34, 55, 89]"
   ]
  },
  {
   "cell_type": "markdown",
   "id": "03eefb2d",
   "metadata": {},
   "source": [
    "Can you convert this into a list comprehension?"
   ]
  },
  {
   "cell_type": "markdown",
   "id": "f99f4bd5",
   "metadata": {},
   "source": [
    "#### Write a program that adds all the elements of the list that are less than 10 and even into a new list"
   ]
  },
  {
   "cell_type": "code",
   "execution_count": null,
   "id": "3a59da95",
   "metadata": {},
   "outputs": [],
   "source": [
    "a = [1, 1, 2, 3, 5, 8, 13, 21, 34, 55, 89]"
   ]
  },
  {
   "cell_type": "markdown",
   "id": "41365e19",
   "metadata": {},
   "source": [
    "#### Write a program that returns a list that contains only the elements that are common between the lists without duplicates\n",
    "\n",
    "* Sets"
   ]
  },
  {
   "cell_type": "code",
   "execution_count": null,
   "id": "c20b44ac",
   "metadata": {},
   "outputs": [],
   "source": [
    "a = [1, 1, 2, 3, 5, 8, 13, 21, 34, 55, 89]\n",
    "b = [1, 2, 3, 4, 5, 6, 7, 8, 9, 10, 11, 12, 13]"
   ]
  },
  {
   "cell_type": "markdown",
   "id": "b9d010ee",
   "metadata": {},
   "source": [
    "#### Create an identical list from the first list using list comprehension"
   ]
  },
  {
   "cell_type": "code",
   "execution_count": null,
   "id": "f850967e",
   "metadata": {},
   "outputs": [],
   "source": [
    "lst1 = [1,2,3,4,5]\n",
    "\n",
    "lst2 = \n",
    "\n",
    "print(lst2)"
   ]
  },
  {
   "cell_type": "markdown",
   "id": "cef0a1e0",
   "metadata": {},
   "source": [
    "#### Can you design and create a program to simulate a bank account?\n",
    "\n",
    "* Use user input\n",
    "* No classes"
   ]
  },
  {
   "cell_type": "code",
   "execution_count": null,
   "id": "ead9541a",
   "metadata": {},
   "outputs": [],
   "source": []
  }
 ],
 "metadata": {
  "kernelspec": {
   "display_name": "Python 3 (ipykernel)",
   "language": "python",
   "name": "python3"
  },
  "language_info": {
   "codemirror_mode": {
    "name": "ipython",
    "version": 3
   },
   "file_extension": ".py",
   "mimetype": "text/x-python",
   "name": "python",
   "nbconvert_exporter": "python",
   "pygments_lexer": "ipython3",
   "version": "3.7.12"
  }
 },
 "nbformat": 4,
 "nbformat_minor": 5
}
